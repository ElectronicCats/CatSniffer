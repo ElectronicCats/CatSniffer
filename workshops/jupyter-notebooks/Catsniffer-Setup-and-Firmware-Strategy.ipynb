{
 "cells": [
  {
   "cell_type": "markdown",
   "id": "53c5dce1-df1b-46ec-82c7-1964b85d8d06",
   "metadata": {},
   "source": [
    "# CatSniffer Setup and Firmware Strategy\n",
    "\n",
    "CatSniffer is a flexible wireless research platform. Its power comes from **task-specific firmware**: \n",
    "the same hardware can act as a sniffer, a fuzzer, or an HCI bridge depending on the binary you load. \n",
    "This notebook is your control panel for managing firmware and running experiments directly from Python.\n",
    "\n",
    "### Why task-focused firmware?\n",
    "\n",
    "Radios have strict timing requirements, and each activity places different demands on the device. \n",
    "A single \"do-everything\" firmware would be unreliable. Instead, we provide lean images for each purpose:\n",
    "\n",
    "- **Sniffer firmware** → For capturing packets with accurate timestamps and exporting PCAPs for Wireshark or analysis.  \n",
    "- **Fuzzer firmware** → For generating and sending malformed frames, controlling mutation strategies, and stress-testing targets.  \n",
    "- **HCI-only firmware** → For experiments where the notebook acts as the Bluetooth Host, sending raw HCI commands directly.  \n",
    "- **Replay firmware** → For reproducing captured traffic, validating responses, or simulating known devices.  \n",
    "\n",
    "By selecting the right firmware, you ensure your CatSniffer performs optimally for the task at hand.\n",
    "\n",
    "### How this notebook is organized\n",
    "\n",
    "Each section of this notebook walks you through a specific step: checking prerequisites, selecting firmware, \n",
    "flashing the device, and running experiments. Before every code cell, you’ll find a short explanation of what it does \n",
    "so you always know what to expect.\n",
    "\n"
   ]
  },
  {
   "cell_type": "markdown",
   "id": "73841c77",
   "metadata": {},
   "source": [
    "### Clone or update Catsniffer-Tools\n",
    "\n",
    "This code cell will execute part of the CatSniffer setup process. It checks out or updates the CatSniffer repository containing firmware and utilities.\n",
    "\n",
    "**Expected output:** You should see messages indicating whether the repository was cloned or updated."
   ]
  },
  {
   "cell_type": "code",
   "execution_count": 1,
   "id": "ef295362-0d63-4939-98fa-8539f0765e92",
   "metadata": {},
   "outputs": [
    {
     "name": "stdout",
     "output_type": "stream",
     "text": [
      "Updating existing repository in CatSniffer-Tools...\n",
      "Already up to date.\n",
      "Repository updated successfully.\n"
     ]
    }
   ],
   "source": [
    "import os\n",
    "import subprocess\n",
    "\n",
    "repo_url = \"https://github.com/ElectronicCats/CatSniffer-Tools.git\"\n",
    "target_dir = \"CatSniffer-Tools\"\n",
    "\n",
    "if not os.path.exists(target_dir):\n",
    "    print(f\"Cloning repository {repo_url}...\")\n",
    "    !git clone {repo_url}\n",
    "else:\n",
    "    print(f\"Updating existing repository in {target_dir}...\")\n",
    "    try:\n",
    "        subprocess.run([\"git\", \"-C\", target_dir, \"pull\"], check=True)\n",
    "        print(\"Repository updated successfully.\")\n",
    "    except subprocess.CalledProcessError as e:\n",
    "        print(f\"Failed to update repository: {e}\")"
   ]
  },
  {
   "cell_type": "markdown",
   "id": "d4c7ba78",
   "metadata": {},
   "source": [
    "### Install dependencies\n",
    "\n",
    "This code cell will execute part of the CatSniffer setup process. It installs the required python packages using pip.\n",
    "\n",
    "**Expected output:** The libraries should be installed."
   ]
  },
  {
   "cell_type": "code",
   "execution_count": 2,
   "id": "6967df3b-eb08-45af-928d-04d0d4521717",
   "metadata": {},
   "outputs": [
    {
     "name": "stdout",
     "output_type": "stream",
     "text": [
      "Requirement already satisfied: pyserial in /opt/homebrew/lib/python3.11/site-packages (3.5)\n",
      "Requirement already satisfied: intelhex in /opt/homebrew/lib/python3.11/site-packages (2.3.0)\n",
      "Requirement already satisfied: requests in /opt/homebrew/lib/python3.11/site-packages (2.31.0)\n",
      "Requirement already satisfied: ipywidgets in /opt/homebrew/lib/python3.11/site-packages (8.1.7)\n",
      "Requirement already satisfied: typer[all] in /opt/homebrew/lib/python3.11/site-packages (0.9.0)\n",
      "Requirement already satisfied: click<9.0.0,>=7.1.1 in /opt/homebrew/lib/python3.11/site-packages (from typer[all]) (8.1.7)\n",
      "Requirement already satisfied: typing-extensions>=3.7.4.3 in /opt/homebrew/lib/python3.11/site-packages (from typer[all]) (4.9.0)\n",
      "Requirement already satisfied: colorama<0.5.0,>=0.4.3 in /opt/homebrew/lib/python3.11/site-packages (from typer[all]) (0.4.6)\n",
      "Requirement already satisfied: shellingham<2.0.0,>=1.3.0 in /opt/homebrew/lib/python3.11/site-packages (from typer[all]) (1.5.4)\n",
      "Requirement already satisfied: rich<14.0.0,>=10.11.0 in /opt/homebrew/lib/python3.11/site-packages (from typer[all]) (13.7.0)\n",
      "Requirement already satisfied: markdown-it-py>=2.2.0 in /opt/homebrew/lib/python3.11/site-packages (from rich<14.0.0,>=10.11.0->typer[all]) (3.0.0)\n",
      "Requirement already satisfied: pygments<3.0.0,>=2.13.0 in /opt/homebrew/lib/python3.11/site-packages (from rich<14.0.0,>=10.11.0->typer[all]) (2.17.2)\n",
      "Requirement already satisfied: charset-normalizer<4,>=2 in /opt/homebrew/lib/python3.11/site-packages (from requests) (3.3.2)\n",
      "Requirement already satisfied: idna<4,>=2.5 in /opt/homebrew/lib/python3.11/site-packages (from requests) (3.6)\n",
      "Requirement already satisfied: urllib3<3,>=1.21.1 in /opt/homebrew/lib/python3.11/site-packages (from requests) (2.1.0)\n",
      "Requirement already satisfied: certifi>=2017.4.17 in /opt/homebrew/lib/python3.11/site-packages (from requests) (2023.11.17)\n",
      "Requirement already satisfied: comm>=0.1.3 in /opt/homebrew/lib/python3.11/site-packages (from ipywidgets) (0.2.2)\n",
      "Requirement already satisfied: ipython>=6.1.0 in /opt/homebrew/lib/python3.11/site-packages (from ipywidgets) (9.4.0)\n",
      "Requirement already satisfied: traitlets>=4.3.1 in /opt/homebrew/lib/python3.11/site-packages (from ipywidgets) (5.14.3)\n",
      "Requirement already satisfied: widgetsnbextension~=4.0.14 in /opt/homebrew/lib/python3.11/site-packages (from ipywidgets) (4.0.14)\n",
      "Requirement already satisfied: jupyterlab_widgets~=3.0.15 in /opt/homebrew/lib/python3.11/site-packages (from ipywidgets) (3.0.15)\n",
      "Requirement already satisfied: decorator in /opt/homebrew/lib/python3.11/site-packages (from ipython>=6.1.0->ipywidgets) (5.2.1)\n",
      "Requirement already satisfied: ipython-pygments-lexers in /opt/homebrew/lib/python3.11/site-packages (from ipython>=6.1.0->ipywidgets) (1.1.1)\n",
      "Requirement already satisfied: jedi>=0.16 in /opt/homebrew/lib/python3.11/site-packages (from ipython>=6.1.0->ipywidgets) (0.19.2)\n",
      "Requirement already satisfied: matplotlib-inline in /opt/homebrew/lib/python3.11/site-packages (from ipython>=6.1.0->ipywidgets) (0.1.7)\n",
      "Requirement already satisfied: pexpect>4.3 in /opt/homebrew/lib/python3.11/site-packages (from ipython>=6.1.0->ipywidgets) (4.9.0)\n",
      "Requirement already satisfied: prompt_toolkit<3.1.0,>=3.0.41 in /opt/homebrew/lib/python3.11/site-packages (from ipython>=6.1.0->ipywidgets) (3.0.51)\n",
      "Requirement already satisfied: stack_data in /opt/homebrew/lib/python3.11/site-packages (from ipython>=6.1.0->ipywidgets) (0.6.3)\n",
      "Requirement already satisfied: wcwidth in /opt/homebrew/lib/python3.11/site-packages (from prompt_toolkit<3.1.0,>=3.0.41->ipython>=6.1.0->ipywidgets) (0.2.13)\n",
      "Requirement already satisfied: parso<0.9.0,>=0.8.4 in /opt/homebrew/lib/python3.11/site-packages (from jedi>=0.16->ipython>=6.1.0->ipywidgets) (0.8.4)\n",
      "Requirement already satisfied: mdurl~=0.1 in /opt/homebrew/lib/python3.11/site-packages (from markdown-it-py>=2.2.0->rich<14.0.0,>=10.11.0->typer[all]) (0.1.2)\n",
      "Requirement already satisfied: ptyprocess>=0.5 in /opt/homebrew/lib/python3.11/site-packages (from pexpect>4.3->ipython>=6.1.0->ipywidgets) (0.7.0)\n",
      "Requirement already satisfied: executing>=1.2.0 in /opt/homebrew/lib/python3.11/site-packages (from stack_data->ipython>=6.1.0->ipywidgets) (2.2.0)\n",
      "Requirement already satisfied: asttokens>=2.1.0 in /opt/homebrew/lib/python3.11/site-packages (from stack_data->ipython>=6.1.0->ipywidgets) (3.0.0)\n",
      "Requirement already satisfied: pure-eval in /opt/homebrew/lib/python3.11/site-packages (from stack_data->ipython>=6.1.0->ipywidgets) (0.2.3)\n"
     ]
    }
   ],
   "source": [
    "# Install dependencies\n",
    "import sys\n",
    "!{sys.executable} -m pip install \"typer[all]\" pyserial intelhex requests ipywidgets"
   ]
  },
  {
   "cell_type": "markdown",
   "id": "2099f67f",
   "metadata": {},
   "source": [
    "### Connect your Catsniffer and identify the USB serial port assigned\n",
    "\n",
    "This code cell will identify and select the serial port used by the Catsniffer.\n",
    "\n",
    "**Expected output:** The cell will confirm the serial port is identified."
   ]
  },
  {
   "cell_type": "code",
   "execution_count": 3,
   "id": "a7039c2e-3718-4fba-9ca8-2787d079aa20",
   "metadata": {},
   "outputs": [
    {
     "name": "stdout",
     "output_type": "stream",
     "text": [
      "Serial Port identified: /dev/cu.usbmodem11101\n"
     ]
    }
   ],
   "source": [
    "# Automatically detect your USB serial port\n",
    "import serial.tools.list_ports\n",
    "\n",
    "def detect_serial_port():\n",
    "    ports = serial.tools.list_ports.comports()\n",
    "    for port in ports:\n",
    "        if any(x in port.device for x in [\"ttyUSB\", \"ttyACM\", \"cu.usbmodem\", \"usbserial\", \"COM\"]):\n",
    "            return port.device\n",
    "    return None\n",
    "\n",
    "selected_port = detect_serial_port()\n",
    "if selected_port:\n",
    "    print(f\"Serial Port identified: {selected_port}\")\n",
    "else:\n",
    "    print(\"No serial port detected.\")\n",
    "    "
   ]
  },
  {
   "cell_type": "markdown",
   "id": "b29c13b7",
   "metadata": {},
   "source": [
    "### Let's try some of the official firmwares distributed via catnip_uploader\n",
    "\n",
    "This code cell will execute part of the CatSniffer setup process. It shows a menu and flashes the selected firmware binary onto your CatSniffer device.\n",
    "\n",
    "**Expected output:** Look for 'Firmware uploaded successfully.' or similar confirmation in the output."
   ]
  },
  {
   "cell_type": "code",
   "execution_count": 4,
   "id": "e9d8edf1-c3c4-4024-8533-da1b2c547c53",
   "metadata": {},
   "outputs": [
    {
     "data": {
      "application/vnd.jupyter.widget-view+json": {
       "model_id": "444af662e512413f90b8eca31fdd47f4",
       "version_major": 2,
       "version_minor": 0
      },
      "text/plain": [
       "Dropdown(description='Firmware:', layout=Layout(width='80%'), options=(('sniffle - BLE sniffer for Bluetooth 5…"
      ]
     },
     "metadata": {},
     "output_type": "display_data"
    },
    {
     "data": {
      "application/vnd.jupyter.widget-view+json": {
       "model_id": "f54b1dfdc5114f4abf5f13dec63f8533",
       "version_major": 2,
       "version_minor": 0
      },
      "text/plain": [
       "Button(button_style='success', description='Load Firmware', style=ButtonStyle())"
      ]
     },
     "metadata": {},
     "output_type": "display_data"
    },
    {
     "data": {
      "application/vnd.jupyter.widget-view+json": {
       "model_id": "44a0c30edee74dfc8293f7f46cd1aeba",
       "version_major": 2,
       "version_minor": 0
      },
      "text/plain": [
       "Output()"
      ]
     },
     "metadata": {},
     "output_type": "display_data"
    }
   ],
   "source": [
    "import ipywidgets as widgets\n",
    "from IPython.display import display, clear_output\n",
    "import subprocess\n",
    "import sys\n",
    "import os\n",
    "\n",
    "uploader_path = \"CatSniffer-Tools/catnip_uploader/catnip_uploader.py\"\n",
    "selected_port = selected_port if 'selected_port' in globals() else '/dev/cu.usbmodem2101'\n",
    "\n",
    "# 📦 Function to parse the firmware table\n",
    "def parse_firmware_table(lines):\n",
    "    firmwares = []\n",
    "    current_firmware = None\n",
    "    current_description = \"\"\n",
    "\n",
    "    for line in lines:\n",
    "        if line.strip().startswith('│'):\n",
    "            parts = line.split('│')\n",
    "            if len(parts) >= 3:\n",
    "                firmware = parts[1].strip().split('_cc')[0]\n",
    "                description = parts[2].strip()\n",
    "                if firmware:\n",
    "                    if current_firmware:\n",
    "                        firmwares.append((current_firmware, current_description.strip()))\n",
    "                    current_firmware = firmware\n",
    "                    current_description = description\n",
    "                else:\n",
    "                    current_description += \" \" + description\n",
    "    if current_firmware:\n",
    "        firmwares.append((current_firmware, current_description.strip()))\n",
    "    return firmwares\n",
    "\n",
    "# 🧪 Load firmwares with subprocess\n",
    "def get_firmwares():\n",
    "    try:\n",
    "        result = subprocess.run(\n",
    "            [sys.executable, uploader_path, \"releases\"],\n",
    "            capture_output=True,\n",
    "            text=True,\n",
    "            check=True\n",
    "        )\n",
    "        return parse_firmware_table(result.stdout.splitlines())\n",
    "    except subprocess.CalledProcessError as e:\n",
    "        print(\"❌ Error obtaining the firmwares:\")\n",
    "        print(e.stderr)\n",
    "        return []\n",
    "\n",
    "# 🌐 Dropdown to show available firmwares\n",
    "firmware_list = get_firmwares()\n",
    "firmware_options = [(f\"{name} - {desc}\", name) for name, desc in firmware_list]\n",
    "\n",
    "firmware_dropdown = widgets.Dropdown(\n",
    "    options=firmware_options,\n",
    "    description='Firmware:',\n",
    "    layout=widgets.Layout(width='80%')\n",
    ")\n",
    "\n",
    "# 🔘 Load button\n",
    "load_button = widgets.Button(description=\"Load Firmware\", button_style='success')\n",
    "output_load = widgets.Output()\n",
    "\n",
    "def on_load_clicked(b):\n",
    "    selected = firmware_dropdown.value\n",
    "    if selected and selected_port:\n",
    "        with output_load:\n",
    "            clear_output()\n",
    "            print(f\"Loading firmware '{selected}' to the serial port {selected_port}...\")\n",
    "        try:\n",
    "            result = subprocess.run(\n",
    "                [sys.executable, uploader_path, \"load\", selected, selected_port, \"--validate\"],\n",
    "                capture_output=True,\n",
    "                text=True,\n",
    "                check=True\n",
    "            )\n",
    "            with output_load:\n",
    "                print(result.stdout)\n",
    "        except subprocess.CalledProcessError as e:\n",
    "            with output_load:\n",
    "                print(\"❌ Error while loading the firmware:\")\n",
    "                print(\"\\n--- STDOUT ---\\n\", e.stdout)\n",
    "                print(\"\\n--- STDERR ---\\n\", e.stderr)\n",
    "    else:\n",
    "        with output_load:\n",
    "            print(\"⚠️ No firmware or port selected.\")\n",
    "\n",
    "load_button.on_click(on_load_clicked)\n",
    "\n",
    "# 🎛️ Display UI\n",
    "display(firmware_dropdown, load_button, output_load)\n"
   ]
  },
  {
   "cell_type": "markdown",
   "id": "b47d4d6f-2e0e-4ab5-ab27-1a63e22c7e0c",
   "metadata": {},
   "source": [
    "You should see the message 'Firmware uploaded successfully.' in the output after selecting and loading a firmware."
   ]
  },
  {
   "cell_type": "markdown",
   "id": "69d590c9-8af0-4895-8a8a-329110a713e4",
   "metadata": {},
   "source": [
    "### TI Sniffer\n",
    "\n",
    "Let's try installing and testing the TI sniffer first:\n",
    "* Select 'sniffer_fw' from the firmware list and load it into the catsniffer in the previous step\n",
    "* Click the button 'open serial port' to connect to your usb serial port at 115200 bauds.\n",
    "* Send any data using the Command field.\n",
    "* See the returned messages. The message 'TI Packet Sniffer ver.1.10.0' should be printed several times.\n",
    "\n",
    "**Expected output:** Look for the message 'TI Packet Sniffer ver.1.10.0' in the output. The message indicates that the new firmware is running correctly."
   ]
  },
  {
   "cell_type": "code",
   "execution_count": 9,
   "id": "2b596fa1-b017-424e-bd8f-8893d8d17076",
   "metadata": {},
   "outputs": [
    {
     "data": {
      "application/vnd.jupyter.widget-view+json": {
       "model_id": "e22265c9bc024ca29bce65501b23a4ea",
       "version_major": 2,
       "version_minor": 0
      },
      "text/plain": [
       "HBox(children=(Button(button_style='success', description='Open Serial Port', style=ButtonStyle()), Button(but…"
      ]
     },
     "metadata": {},
     "output_type": "display_data"
    },
    {
     "data": {
      "application/vnd.jupyter.widget-view+json": {
       "model_id": "5f294a5456b64553bbcc7ff09d219d17",
       "version_major": 2,
       "version_minor": 0
      },
      "text/plain": [
       "Text(value='', description='Command:')"
      ]
     },
     "metadata": {},
     "output_type": "display_data"
    },
    {
     "data": {
      "application/vnd.jupyter.widget-view+json": {
       "model_id": "f8f4594fbab94f18a8e157060189bdad",
       "version_major": 2,
       "version_minor": 0
      },
      "text/plain": [
       "Button(description='Send', style=ButtonStyle())"
      ]
     },
     "metadata": {},
     "output_type": "display_data"
    },
    {
     "data": {
      "application/vnd.jupyter.widget-view+json": {
       "model_id": "18709e97caa74d4b9c951bd632ad92ad",
       "version_major": 2,
       "version_minor": 0
      },
      "text/plain": [
       "Output()"
      ]
     },
     "metadata": {},
     "output_type": "display_data"
    }
   ],
   "source": [
    "import ipywidgets as widgets\n",
    "from IPython.display import display, clear_output\n",
    "import serial, time, threading\n",
    "\n",
    "serial_conn = None\n",
    "serial_port = selected_port if 'selected_port' in globals() else '/dev/cu.usbmodem2101'\n",
    "\n",
    "output_serial = widgets.Output()\n",
    "command_input = widgets.Text(description='Command:')\n",
    "send_button = widgets.Button(description='Send')\n",
    "close_button = widgets.Button(description='Close Serial Port', button_style='danger')\n",
    "open_button = widgets.Button(description='Open Serial Port', button_style='success')\n",
    "\n",
    "def open_serial(b=None):\n",
    "    global serial_conn\n",
    "    try:\n",
    "        serial_conn = serial.Serial(serial_port, 115200, timeout=1)\n",
    "        time.sleep(2)\n",
    "        with output_serial:\n",
    "            clear_output()\n",
    "            print(f'✅ Port {serial_port} opened at 115200 bauds.')\n",
    "    except Exception as e:\n",
    "        with output_serial:\n",
    "            clear_output()\n",
    "            print(f'❌ Error while opening the serial port: {e}')\n",
    "\n",
    "def close_serial(b=None):\n",
    "    global serial_conn\n",
    "    if serial_conn and serial_conn.is_open:\n",
    "        serial_conn.close()\n",
    "        with output_serial:\n",
    "            print('🔌 Serial Port closed correctly.')\n",
    "\n",
    "def send_command(b):\n",
    "    global serial_conn\n",
    "    if serial_conn and serial_conn.is_open:\n",
    "        cmd = command_input.value.strip() + '\\r\\n'\n",
    "        serial_conn.write(cmd.encode())\n",
    "        time.sleep(0.3)\n",
    "        resp = serial_conn.read_all().decode(errors='ignore')\n",
    "        with output_serial:\n",
    "            print(f'📤 Enviado: {cmd.strip()}')\n",
    "            print(f'📥 Respuesta: {resp.strip()}')\n",
    "    else:\n",
    "        with output_serial:\n",
    "            print('⚠️ The serial port is not opened.')\n",
    "\n",
    "# Button callbacks\n",
    "send_button.on_click(send_command)\n",
    "close_button.on_click(close_serial)\n",
    "open_button.on_click(open_serial)\n",
    "\n",
    "# Display UI\n",
    "display(widgets.HBox([open_button, close_button]))\n",
    "display(command_input, send_button, output_serial)\n"
   ]
  },
  {
   "cell_type": "code",
   "execution_count": null,
   "id": "d1cb745d-8ac6-48ff-b0f3-e91e9a69c8fc",
   "metadata": {},
   "outputs": [],
   "source": []
  }
 ],
 "metadata": {
  "kernelspec": {
   "display_name": "Python 3 (ipykernel)",
   "language": "python",
   "name": "python3"
  },
  "language_info": {
   "codemirror_mode": {
    "name": "ipython",
    "version": 3
   },
   "file_extension": ".py",
   "mimetype": "text/x-python",
   "name": "python",
   "nbconvert_exporter": "python",
   "pygments_lexer": "ipython3",
   "version": "3.11.12"
  }
 },
 "nbformat": 4,
 "nbformat_minor": 5
}
